{
 "cells": [
  {
   "cell_type": "markdown",
   "metadata": {},
   "source": [
    "# Idea: Generate a prompt and obtain output from a language model (LM). Translate this prompt into other languages, and get the output from the same LM. Translate these results back into English. Finally, compare the outputs.\n",
    "\n",
    "Additional Considerations:\n",
    "\n",
    "- Use a LM that has been trained on multiple languages (such as GPT-3).\n",
    "- The translation model (TM) should be unfiltered (no profanity filters, for instance).\n",
    "- Consider using a model that evaluates the outputs of the LM (e.g. sentiment). Compare the original output and the translated output.\n",
    "- If the outputs are similar, then the LM maintains fidelity across languages.\n",
    "- If they are very similar (especially for API models), there might be a translation process happening in the background.\n",
    "\n",
    "To-Do List:\n",
    "- Find a translation model without profanity filters.\n",
    "    - Currently, Helsinki-NLP is being used, but it filters language and its performance is suboptimal.\n",
    "    - Google's translation API was tested, but it's expensive.\n",
    "- Identify instances where the model provides an answer in one language but declines to do so in another.\n",
    "- Test with more or different embedding models/classifiers.\n",
    "    - So far, only an emotion classifier has been tested.\n",
    "    - Perhaps an embedding model could be used, even though the dimensions might not be intuitively interpretable"
   ]
  },
  {
   "cell_type": "code",
   "execution_count": 29,
   "metadata": {},
   "outputs": [],
   "source": [
    "import os\n",
    "import time\n",
    "import pandas as pd\n",
    "import plotly.graph_objects as go\n",
    "\n",
    "import openai\n",
    "import requests"
   ]
  },
  {
   "cell_type": "code",
   "execution_count": 2,
   "metadata": {},
   "outputs": [],
   "source": [
    "with open('/Users/tilman/.hfkey', 'r') as f:\n",
    "    HF_API_TOKEN = f.read().strip()\n",
    "headers = {\"Authorization\": f\"Bearer {HF_API_TOKEN}\"}\n",
    "\n",
    "with open(\"/Users/tilman/.openaikey\", \"r\") as file:\n",
    "    OAI_API_TOKEN = file.read().strip()\n",
    "\n",
    "openai.api_key = OAI_API_TOKEN"
   ]
  },
  {
   "cell_type": "code",
   "execution_count": 3,
   "metadata": {},
   "outputs": [
    {
     "name": "stdout",
     "output_type": "stream",
     "text": [
      "Model is loading, waiting for 20.0 seconds.\n",
      "That's a test.\n"
     ]
    }
   ],
   "source": [
    "def translate_to_eng(text: str = \"This is a test, pleae replace with actual string in another language.\"):\n",
    "\tHF_API_URL = \"https://api-inference.huggingface.co/models/Helsinki-NLP/opus-mt-mul-en\"\n",
    "\tpayload = {\n",
    "\t\t\"inputs\": text,\n",
    "        \"parameters\": {\"truncation\": \"only_first\"}  # This line tells the API to truncate the input if it's too long\n",
    "\n",
    "\t}\n",
    "\tresponse = requests.post(HF_API_URL, headers=headers, json=payload)\n",
    "\treturn response.json()\n",
    "\n",
    "def get_translation_in_eng(text:str):\n",
    "\tresponse = translate_to_eng(text)\n",
    "\t\n",
    "\twhile 'error' in response and 'is currently loading' in response['error']:\n",
    "\t\testimated_time = response.get('estimated_time', 20)\n",
    "\t\tprint(f\"Model is loading, waiting for {estimated_time} seconds.\")\n",
    "\t\ttime.sleep(estimated_time)\n",
    "\t\tresponse = translate_to_eng(text)\n",
    "\n",
    "\ttry:\n",
    "\t\treturn response[0][\"translation_text\"]\n",
    "\texcept:\n",
    "\t\tprint(response)\n",
    "\t\treturn None\n",
    "\n",
    "print(get_translation_in_eng(\"Das ist ein Test.\"))"
   ]
  },
  {
   "cell_type": "code",
   "execution_count": 4,
   "metadata": {},
   "outputs": [
    {
     "name": "stdout",
     "output_type": "stream",
     "text": [
      "Model is loading, waiting for 20.0 seconds.\n",
      "Esto es una prueba.\n"
     ]
    }
   ],
   "source": [
    "def translate_to_mul(text: str, target_language: str):\n",
    "    HF_API_URL = \"https://api-inference.huggingface.co/models/Helsinki-NLP/opus-mt-en-mul\"\n",
    "    text_with_token = \">>\" + target_language + \"<< \" + text\n",
    "    payload = {\n",
    "        \"inputs\":text_with_token,\n",
    "        \"parameters\": {\"truncation\": \"only_first\"}  # This line tells the API to truncate the input if it's too long\n",
    "\n",
    "    }\n",
    "    response = requests.post(HF_API_URL, headers=headers, json=payload)\n",
    "    return response.json()\n",
    "\n",
    "def get_translation_in_language(text: str, target_language: str):\n",
    "    response = translate_to_mul(text, target_language)\n",
    "    \n",
    "    while 'error' in response and 'is currently loading' in response['error']:\n",
    "        estimated_time = response.get('estimated_time', 20)\n",
    "        print(f\"Model is loading, waiting for {estimated_time} seconds.\")\n",
    "        time.sleep(estimated_time)\n",
    "        response = translate_to_mul(text, target_language)\n",
    "    try:\n",
    "        return response[0]['translation_text']\n",
    "    except:\n",
    "        print(response)\n",
    "        return None\n",
    "\n",
    "print(get_translation_in_language(\"This is a test.\", \"spa\"))  # English to Spanish\n"
   ]
  },
  {
   "cell_type": "code",
   "execution_count": 5,
   "metadata": {},
   "outputs": [],
   "source": [
    "# create a function that takes a prompt and returns a completion\n",
    "def complete(prompt):\n",
    "    max_tokens = int(512 * 0.9)\n",
    "    OAI_MODEL = \"gpt-3.5-turbo\"\n",
    "    return openai.ChatCompletion.create(\n",
    "    model=OAI_MODEL,\n",
    "    # add max length\n",
    "    messages=[\n",
    "        # {\"role\": \"system\", \"content\": \"You are a creative assistant.\"},\n",
    "        {\"role\": \"user\", \"content\": prompt}\n",
    "    ],\n",
    "    n=1,\n",
    "    max_tokens=max_tokens,\n",
    "    )\n",
    "\n",
    "def get_answer(prompt):\n",
    "    return complete(prompt).choices[0].message.content"
   ]
  },
  {
   "cell_type": "code",
   "execution_count": 6,
   "metadata": {},
   "outputs": [
    {
     "name": "stdout",
     "output_type": "stream",
     "text": [
      "The meaning of life is a profound and philosophical question that has been approached differently by various cultures, religions, and individuals throughout history. Answers to this question can vary greatly depending on personal beliefs and perspectives. Some people find meaning in fulfilling personal goals, relationships, or experiences, while others seek meaning through spirituality, religion, or the pursuit of knowledge. Ultimately, the meaning of life may be subjective and unique to each individual.\n"
     ]
    }
   ],
   "source": [
    "complete_ouput = complete(\"What is the meaning of life?\")\n",
    "answer = complete_ouput.choices[0].message.content\n",
    "print(answer)"
   ]
  },
  {
   "cell_type": "code",
   "execution_count": 26,
   "metadata": {},
   "outputs": [
    {
     "data": {
      "text/plain": [
       "[[{'label': 'love', 'score': 0.9666957855224609},\n",
       "  {'label': 'admiration', 'score': 0.017801644280552864},\n",
       "  {'label': 'joy', 'score': 0.01078831683844328},\n",
       "  {'label': 'approval', 'score': 0.0012105630012229085},\n",
       "  {'label': 'caring', 'score': 0.0005521224229596555},\n",
       "  {'label': 'excitement', 'score': 0.0005357517511583865},\n",
       "  {'label': 'amusement', 'score': 0.0005129202618263662},\n",
       "  {'label': 'gratitude', 'score': 0.0004403434577398002},\n",
       "  {'label': 'desire', 'score': 0.0002855785423889756},\n",
       "  {'label': 'anger', 'score': 0.00021759387163911015},\n",
       "  {'label': 'optimism', 'score': 0.00012963690096512437},\n",
       "  {'label': 'disapproval', 'score': 0.00012925038754474372},\n",
       "  {'label': 'grief', 'score': 9.996540029533207e-05},\n",
       "  {'label': 'annoyance', 'score': 6.998069875407964e-05},\n",
       "  {'label': 'pride', 'score': 6.350891635520384e-05},\n",
       "  {'label': 'curiosity', 'score': 5.861332101630978e-05},\n",
       "  {'label': 'neutral', 'score': 4.916170291835442e-05},\n",
       "  {'label': 'disgust', 'score': 4.371397881186567e-05},\n",
       "  {'label': 'disappointment', 'score': 4.1869396227411926e-05},\n",
       "  {'label': 'realization', 'score': 4.092154267709702e-05},\n",
       "  {'label': 'fear', 'score': 3.980738983955234e-05},\n",
       "  {'label': 'relief', 'score': 3.7289024476194754e-05},\n",
       "  {'label': 'confusion', 'score': 3.58627294190228e-05},\n",
       "  {'label': 'remorse', 'score': 3.407898111618124e-05},\n",
       "  {'label': 'embarrassment', 'score': 3.124252543784678e-05},\n",
       "  {'label': 'surprise', 'score': 2.4887056497391313e-05},\n",
       "  {'label': 'sadness', 'score': 2.1573885533143766e-05},\n",
       "  {'label': 'nervousness', 'score': 8.014942068257369e-06}]]"
      ]
     },
     "execution_count": 26,
     "metadata": {},
     "output_type": "execute_result"
    }
   ],
   "source": [
    "\n",
    "def emo(text: str = \"I like you. I love you\"):\n",
    "\tEMO_API_URL = \"https://api-inference.huggingface.co/models/arpanghoshal/EmoRoBERTa\"\n",
    "\tpayload = {\n",
    "\t\t\"inputs\": text,\n",
    "\t\t\"parameters\": {\"truncation\": \"only_first\"}  # This line tells the API to truncate the input if it's too long\n",
    "\t}\n",
    "\tresponse = requests.post(EMO_API_URL, headers=headers, json=payload)\n",
    "\treturn response.json()\n",
    "\t\n",
    "emo()"
   ]
  },
  {
   "cell_type": "code",
   "execution_count": 27,
   "metadata": {},
   "outputs": [
    {
     "name": "stdout",
     "output_type": "stream",
     "text": [
      "Model is loading, waiting for 20.0 seconds.\n",
      "Model is loading, waiting for 20.0 seconds.\n"
     ]
    }
   ],
   "source": [
    "def polyglot_prompt(prompt: str, lang_list = [\"eng\", \"deu\"]):\n",
    "    \n",
    "    output_dict = {}\n",
    "\n",
    "    for lang in lang_list:\n",
    "        # TODO: sometime the models need to be loaded - this results in a key error, which is not handled yet\n",
    "        output_dict[lang] = {}\n",
    "        output_dict[lang][\"prompt\"] = prompt\n",
    "        output_dict[lang][\"lang_prompt\"] = get_translation_in_language(prompt, lang)\n",
    "        output_dict[lang][\"lang_output\"] = get_answer(output_dict[lang][\"lang_prompt\"])\n",
    "        output_dict[lang][\"eng_output\"] = get_translation_in_eng(output_dict[lang][\"lang_output\"])\n",
    "        output_dict[lang][\"emotion\"] = emo(output_dict[lang][\"eng_output\"])\n",
    "\n",
    "    return output_dict\n",
    "\n",
    "lang_list = [\"eng\", \"spa\", \"deu\", \"fra\", \"rus\"]\n",
    "output_dict = polyglot_prompt(\"What is the meaning of life?\", lang_list=lang_list)"
   ]
  },
  {
   "cell_type": "code",
   "execution_count": 19,
   "metadata": {},
   "outputs": [],
   "source": [
    "# convert lang_list into a list of flag emojis\n",
    "flag_emojis = {\n",
    "    \"eng\": \"🇬🇧\",\n",
    "    \"spa\": \"🇪🇸\",\n",
    "    \"deu\": \"🇩🇪\",\n",
    "    \"fra\": \"🇫🇷\",\n",
    "    \"rus\": \"🇷🇺\",\n",
    "}\n"
   ]
  },
  {
   "cell_type": "code",
   "execution_count": 25,
   "metadata": {},
   "outputs": [
    {
     "data": {
      "application/vnd.plotly.v1+json": {
       "config": {
        "plotlyServerURL": "https://plot.ly"
       },
       "data": [
        {
         "hovertext": "ʹ Qu’est l’intention de la vie?<br><br>There is no definitive answer to this question because the purpose of life is subjective and can var<br>y from one person to another. Some might say that the purpose of life is to find happiness, others m<br>ight say that it is to fulfill their dreams and aspirations, while others could still say that it is<br> to contribute to the well-being of others or to find a deeper sense of existence. Everyone can find<br> his own purpose or purpose in life based on his own values, beliefs and experiences.",
         "name": "🇬🇧",
         "type": "bar",
         "x": [
          "realization",
          "neutral",
          "optimism",
          "approval",
          "joy",
          "pride",
          "relief",
          "desire",
          "admiration",
          "amusement",
          "disappointment",
          "gratitude",
          "remorse",
          "caring",
          "disapproval",
          "confusion",
          "sadness",
          "disgust",
          "grief",
          "embarrassment",
          "love",
          "annoyance",
          "surprise",
          "nervousness",
          "excitement",
          "anger",
          "fear",
          "curiosity"
         ],
         "y": [
          0.39834171533584595,
          0.3864457607269287,
          0.13567714393138885,
          0.050366636365652084,
          0.009439039044082165,
          0.00399005925282836,
          0.0024685089010745287,
          0.001945885014720261,
          0.001476372592151165,
          0.001345030963420868,
          0.001169403549283743,
          0.0008770130225457251,
          0.0008450189488939941,
          0.0008332862635143101,
          0.0007918960181996226,
          0.000682914920616895,
          0.0004949888098053634,
          0.0004422274068929255,
          0.00044103595428168774,
          0.00044067978160455823,
          0.0003497347643133253,
          0.0003118060121778399,
          0.00023543201677966863,
          0.00022573811293113977,
          0.00021118314180057496,
          0.00006759974348824471,
          0.00005557898839469999,
          0.000028261203624424525
         ]
        },
        {
         "hovertext": "¿Cuál es el significado de la vida?<br><br>The meaning of life is a philosophical question which has been the subject of debate for centuries a<br>nd there is no definitive answer. It depends largely on individual beliefs and perspectives. Some pe<br>ople can find meaning and purpose in achieving personal goals, building meaningful relationships, he<br>lping others or seeking knowledge and wisdom. Others can find meaning in religious spirituality or p<br>ractice. Finally, the meaning of life can be a personal and unique question for each individual.",
         "name": "🇪🇸",
         "type": "bar",
         "x": [
          "realization",
          "neutral",
          "optimism",
          "approval",
          "joy",
          "pride",
          "relief",
          "desire",
          "admiration",
          "amusement",
          "disappointment",
          "gratitude",
          "remorse",
          "caring",
          "disapproval",
          "confusion",
          "sadness",
          "disgust",
          "grief",
          "embarrassment",
          "love",
          "annoyance",
          "surprise",
          "nervousness",
          "excitement",
          "anger",
          "fear",
          "curiosity"
         ],
         "y": [
          0.07939494401216507,
          0.9069928526878357,
          0.0007745135226286948,
          0.001262383651919663,
          0.0004228962352499366,
          0.0048060608096420765,
          0.00019418130978010595,
          0.0001794922718545422,
          0.0007392246625386178,
          0.0001263667654711753,
          0.0006473548710346222,
          0.00012527497892733663,
          0.0005458258674480021,
          0.00011684932542266324,
          0.0007507777190767229,
          0.0007070638239383698,
          0.00027926714392378926,
          0.0001851905108196661,
          0.000563309877179563,
          0.00012500312004704028,
          0.00020299646712373942,
          0.0002619262086227536,
          0.00008108680776786059,
          0.00009544106433168054,
          0.00011616710980888456,
          0.00022821570746600628,
          0.000056969158322317526,
          0.000018444256056682207
         ]
        },
        {
         "hovertext": "Was ist die Bedeutung des Lebens?<br><br>The question of the meaning of life is a philosophical question that has been debated for centuries <br>by many thinkers and philosophers. There are various approaches and views. Some philosophical positi<br>ons argue that each person must find his own meaning in life, whether it is through personal fulfill<br>ment, professional success, relationships or moral obligations. Others argue that the meaning of lif<br>e is to be found in a greater context, such as by linking to other people or the nature, religious o<br>r spiritual things or contribution to society. There are also philosophical views, which argue that <br>life does not have any meaning in life and that it has its purpose in life.",
         "name": "🇩🇪",
         "type": "bar",
         "x": [
          "realization",
          "neutral",
          "optimism",
          "approval",
          "joy",
          "pride",
          "relief",
          "desire",
          "admiration",
          "amusement",
          "disappointment",
          "gratitude",
          "remorse",
          "caring",
          "disapproval",
          "confusion",
          "sadness",
          "disgust",
          "grief",
          "embarrassment",
          "love",
          "annoyance",
          "surprise",
          "nervousness",
          "excitement",
          "anger",
          "fear",
          "curiosity"
         ],
         "y": [
          0.7697529792785645,
          0.20676082372665405,
          0.0027335863560438156,
          0.015492438338696957,
          0.0008823220850899816,
          0.00038814241997897625,
          0.00021424645092338324,
          0.0001504053216194734,
          0.0002573366218712181,
          0.00023530817998107523,
          0.00028180767549201846,
          0.000211630278499797,
          0.00008710705151315778,
          0.000026392792278784327,
          0.0005066468729637563,
          0.0008170260116457939,
          0.00007842516788514331,
          0.00012454659736249596,
          0.00006473833491327241,
          0.00007134927727747709,
          0.00007104570249794051,
          0.0001684745802776888,
          0.00028170624864287674,
          0.00007783972978359088,
          0.00017772227874957025,
          0.00001463181797589641,
          0.000015445513781742193,
          0.00005589005377260037
         ]
        },
        {
         "hovertext": "Quel est le sens de la vie?<br><br>The question of the meaning of life is a deep philosophical question that arises from many reflectio<br>ns and interpretations. The answers vary according to the beliefs, values and perspectives of each i<br>ndividual. Some consider that the meaning of life lies in seeking happiness and personal expansion, <br>while others find it in relationships, spirituality, achieving personal goals, contribution to socie<br>ty, or still the search for truth and wisdom. There is no definitive or universal answer to this que<br>stion, because everyone can give his own meaning and create his own meaning in life.",
         "name": "🇫🇷",
         "type": "bar",
         "x": [
          "realization",
          "neutral",
          "optimism",
          "approval",
          "joy",
          "pride",
          "relief",
          "desire",
          "admiration",
          "amusement",
          "disappointment",
          "gratitude",
          "remorse",
          "caring",
          "disapproval",
          "confusion",
          "sadness",
          "disgust",
          "grief",
          "embarrassment",
          "love",
          "annoyance",
          "surprise",
          "nervousness",
          "excitement",
          "anger",
          "fear",
          "curiosity"
         ],
         "y": [
          0.8204171061515808,
          0.15709026157855988,
          0.006358285900205374,
          0.008822842501103878,
          0.00039821231621317565,
          0.0004549434524960816,
          0.00038135293289087713,
          0.0002180702576879412,
          0.00031645188573747873,
          0.00012173767754575238,
          0.0010362915927544236,
          0.0002117054827976972,
          0.00040693976916372776,
          0.00013002472405787557,
          0.0004319109139032662,
          0.0018573289271444082,
          0.00023973023053258657,
          0.00007514014578191563,
          0.00015001633437350392,
          0.0001889304257929325,
          0.0000969495958997868,
          0.00011071242624893785,
          0.00023661550949327648,
          0.00010745894542196766,
          0.00006131830741651356,
          0.00001715821235848125,
          0.00002243742346763611,
          0.000040128557884600013
         ]
        },
        {
         "hovertext": "Каким значением жизни?<br><br>The meaning of life may differ from one person to another, depending on his beliefs, values, aspirat<br>ions, and experience. Some people find meaning in achieving personal goals, happiness and well-being<br>, others seeking the truth, spiritual development or service of others.",
         "name": "🇷🇺",
         "type": "bar",
         "x": [
          "realization",
          "neutral",
          "optimism",
          "approval",
          "joy",
          "pride",
          "relief",
          "desire",
          "admiration",
          "amusement",
          "disappointment",
          "gratitude",
          "remorse",
          "caring",
          "disapproval",
          "confusion",
          "sadness",
          "disgust",
          "grief",
          "embarrassment",
          "love",
          "annoyance",
          "surprise",
          "nervousness",
          "excitement",
          "anger",
          "fear",
          "curiosity"
         ],
         "y": [
          0.16164767742156982,
          0.8151463270187378,
          0.005841044243425131,
          0.00539030134677887,
          0.003623110707849264,
          0.0005836080526933074,
          0.0008339741034433246,
          0.00021928433852735907,
          0.0006334431236609817,
          0.00025923183420673013,
          0.00033216725569218397,
          0.0010330395307391882,
          0.00021657938486896455,
          0.00038524740375578403,
          0.0003041328745894134,
          0.0019039777107536793,
          0.00012243553646840155,
          0.00014923133130650967,
          0.00030673929722979665,
          0.00006922543980181217,
          0.0000877664060681127,
          0.00013378044241108,
          0.00027438814868219197,
          0.0000663330138195306,
          0.00025539056514389813,
          0.00003034673682122957,
          0.00003175446545355953,
          0.00011949464533245191
         ]
        }
       ],
       "layout": {
        "barmode": "group",
        "template": {
         "data": {
          "bar": [
           {
            "error_x": {
             "color": "#2a3f5f"
            },
            "error_y": {
             "color": "#2a3f5f"
            },
            "marker": {
             "line": {
              "color": "#E5ECF6",
              "width": 0.5
             },
             "pattern": {
              "fillmode": "overlay",
              "size": 10,
              "solidity": 0.2
             }
            },
            "type": "bar"
           }
          ],
          "barpolar": [
           {
            "marker": {
             "line": {
              "color": "#E5ECF6",
              "width": 0.5
             },
             "pattern": {
              "fillmode": "overlay",
              "size": 10,
              "solidity": 0.2
             }
            },
            "type": "barpolar"
           }
          ],
          "carpet": [
           {
            "aaxis": {
             "endlinecolor": "#2a3f5f",
             "gridcolor": "white",
             "linecolor": "white",
             "minorgridcolor": "white",
             "startlinecolor": "#2a3f5f"
            },
            "baxis": {
             "endlinecolor": "#2a3f5f",
             "gridcolor": "white",
             "linecolor": "white",
             "minorgridcolor": "white",
             "startlinecolor": "#2a3f5f"
            },
            "type": "carpet"
           }
          ],
          "choropleth": [
           {
            "colorbar": {
             "outlinewidth": 0,
             "ticks": ""
            },
            "type": "choropleth"
           }
          ],
          "contour": [
           {
            "colorbar": {
             "outlinewidth": 0,
             "ticks": ""
            },
            "colorscale": [
             [
              0,
              "#0d0887"
             ],
             [
              0.1111111111111111,
              "#46039f"
             ],
             [
              0.2222222222222222,
              "#7201a8"
             ],
             [
              0.3333333333333333,
              "#9c179e"
             ],
             [
              0.4444444444444444,
              "#bd3786"
             ],
             [
              0.5555555555555556,
              "#d8576b"
             ],
             [
              0.6666666666666666,
              "#ed7953"
             ],
             [
              0.7777777777777778,
              "#fb9f3a"
             ],
             [
              0.8888888888888888,
              "#fdca26"
             ],
             [
              1,
              "#f0f921"
             ]
            ],
            "type": "contour"
           }
          ],
          "contourcarpet": [
           {
            "colorbar": {
             "outlinewidth": 0,
             "ticks": ""
            },
            "type": "contourcarpet"
           }
          ],
          "heatmap": [
           {
            "colorbar": {
             "outlinewidth": 0,
             "ticks": ""
            },
            "colorscale": [
             [
              0,
              "#0d0887"
             ],
             [
              0.1111111111111111,
              "#46039f"
             ],
             [
              0.2222222222222222,
              "#7201a8"
             ],
             [
              0.3333333333333333,
              "#9c179e"
             ],
             [
              0.4444444444444444,
              "#bd3786"
             ],
             [
              0.5555555555555556,
              "#d8576b"
             ],
             [
              0.6666666666666666,
              "#ed7953"
             ],
             [
              0.7777777777777778,
              "#fb9f3a"
             ],
             [
              0.8888888888888888,
              "#fdca26"
             ],
             [
              1,
              "#f0f921"
             ]
            ],
            "type": "heatmap"
           }
          ],
          "heatmapgl": [
           {
            "colorbar": {
             "outlinewidth": 0,
             "ticks": ""
            },
            "colorscale": [
             [
              0,
              "#0d0887"
             ],
             [
              0.1111111111111111,
              "#46039f"
             ],
             [
              0.2222222222222222,
              "#7201a8"
             ],
             [
              0.3333333333333333,
              "#9c179e"
             ],
             [
              0.4444444444444444,
              "#bd3786"
             ],
             [
              0.5555555555555556,
              "#d8576b"
             ],
             [
              0.6666666666666666,
              "#ed7953"
             ],
             [
              0.7777777777777778,
              "#fb9f3a"
             ],
             [
              0.8888888888888888,
              "#fdca26"
             ],
             [
              1,
              "#f0f921"
             ]
            ],
            "type": "heatmapgl"
           }
          ],
          "histogram": [
           {
            "marker": {
             "pattern": {
              "fillmode": "overlay",
              "size": 10,
              "solidity": 0.2
             }
            },
            "type": "histogram"
           }
          ],
          "histogram2d": [
           {
            "colorbar": {
             "outlinewidth": 0,
             "ticks": ""
            },
            "colorscale": [
             [
              0,
              "#0d0887"
             ],
             [
              0.1111111111111111,
              "#46039f"
             ],
             [
              0.2222222222222222,
              "#7201a8"
             ],
             [
              0.3333333333333333,
              "#9c179e"
             ],
             [
              0.4444444444444444,
              "#bd3786"
             ],
             [
              0.5555555555555556,
              "#d8576b"
             ],
             [
              0.6666666666666666,
              "#ed7953"
             ],
             [
              0.7777777777777778,
              "#fb9f3a"
             ],
             [
              0.8888888888888888,
              "#fdca26"
             ],
             [
              1,
              "#f0f921"
             ]
            ],
            "type": "histogram2d"
           }
          ],
          "histogram2dcontour": [
           {
            "colorbar": {
             "outlinewidth": 0,
             "ticks": ""
            },
            "colorscale": [
             [
              0,
              "#0d0887"
             ],
             [
              0.1111111111111111,
              "#46039f"
             ],
             [
              0.2222222222222222,
              "#7201a8"
             ],
             [
              0.3333333333333333,
              "#9c179e"
             ],
             [
              0.4444444444444444,
              "#bd3786"
             ],
             [
              0.5555555555555556,
              "#d8576b"
             ],
             [
              0.6666666666666666,
              "#ed7953"
             ],
             [
              0.7777777777777778,
              "#fb9f3a"
             ],
             [
              0.8888888888888888,
              "#fdca26"
             ],
             [
              1,
              "#f0f921"
             ]
            ],
            "type": "histogram2dcontour"
           }
          ],
          "mesh3d": [
           {
            "colorbar": {
             "outlinewidth": 0,
             "ticks": ""
            },
            "type": "mesh3d"
           }
          ],
          "parcoords": [
           {
            "line": {
             "colorbar": {
              "outlinewidth": 0,
              "ticks": ""
             }
            },
            "type": "parcoords"
           }
          ],
          "pie": [
           {
            "automargin": true,
            "type": "pie"
           }
          ],
          "scatter": [
           {
            "fillpattern": {
             "fillmode": "overlay",
             "size": 10,
             "solidity": 0.2
            },
            "type": "scatter"
           }
          ],
          "scatter3d": [
           {
            "line": {
             "colorbar": {
              "outlinewidth": 0,
              "ticks": ""
             }
            },
            "marker": {
             "colorbar": {
              "outlinewidth": 0,
              "ticks": ""
             }
            },
            "type": "scatter3d"
           }
          ],
          "scattercarpet": [
           {
            "marker": {
             "colorbar": {
              "outlinewidth": 0,
              "ticks": ""
             }
            },
            "type": "scattercarpet"
           }
          ],
          "scattergeo": [
           {
            "marker": {
             "colorbar": {
              "outlinewidth": 0,
              "ticks": ""
             }
            },
            "type": "scattergeo"
           }
          ],
          "scattergl": [
           {
            "marker": {
             "colorbar": {
              "outlinewidth": 0,
              "ticks": ""
             }
            },
            "type": "scattergl"
           }
          ],
          "scattermapbox": [
           {
            "marker": {
             "colorbar": {
              "outlinewidth": 0,
              "ticks": ""
             }
            },
            "type": "scattermapbox"
           }
          ],
          "scatterpolar": [
           {
            "marker": {
             "colorbar": {
              "outlinewidth": 0,
              "ticks": ""
             }
            },
            "type": "scatterpolar"
           }
          ],
          "scatterpolargl": [
           {
            "marker": {
             "colorbar": {
              "outlinewidth": 0,
              "ticks": ""
             }
            },
            "type": "scatterpolargl"
           }
          ],
          "scatterternary": [
           {
            "marker": {
             "colorbar": {
              "outlinewidth": 0,
              "ticks": ""
             }
            },
            "type": "scatterternary"
           }
          ],
          "surface": [
           {
            "colorbar": {
             "outlinewidth": 0,
             "ticks": ""
            },
            "colorscale": [
             [
              0,
              "#0d0887"
             ],
             [
              0.1111111111111111,
              "#46039f"
             ],
             [
              0.2222222222222222,
              "#7201a8"
             ],
             [
              0.3333333333333333,
              "#9c179e"
             ],
             [
              0.4444444444444444,
              "#bd3786"
             ],
             [
              0.5555555555555556,
              "#d8576b"
             ],
             [
              0.6666666666666666,
              "#ed7953"
             ],
             [
              0.7777777777777778,
              "#fb9f3a"
             ],
             [
              0.8888888888888888,
              "#fdca26"
             ],
             [
              1,
              "#f0f921"
             ]
            ],
            "type": "surface"
           }
          ],
          "table": [
           {
            "cells": {
             "fill": {
              "color": "#EBF0F8"
             },
             "line": {
              "color": "white"
             }
            },
            "header": {
             "fill": {
              "color": "#C8D4E3"
             },
             "line": {
              "color": "white"
             }
            },
            "type": "table"
           }
          ]
         },
         "layout": {
          "annotationdefaults": {
           "arrowcolor": "#2a3f5f",
           "arrowhead": 0,
           "arrowwidth": 1
          },
          "autotypenumbers": "strict",
          "coloraxis": {
           "colorbar": {
            "outlinewidth": 0,
            "ticks": ""
           }
          },
          "colorscale": {
           "diverging": [
            [
             0,
             "#8e0152"
            ],
            [
             0.1,
             "#c51b7d"
            ],
            [
             0.2,
             "#de77ae"
            ],
            [
             0.3,
             "#f1b6da"
            ],
            [
             0.4,
             "#fde0ef"
            ],
            [
             0.5,
             "#f7f7f7"
            ],
            [
             0.6,
             "#e6f5d0"
            ],
            [
             0.7,
             "#b8e186"
            ],
            [
             0.8,
             "#7fbc41"
            ],
            [
             0.9,
             "#4d9221"
            ],
            [
             1,
             "#276419"
            ]
           ],
           "sequential": [
            [
             0,
             "#0d0887"
            ],
            [
             0.1111111111111111,
             "#46039f"
            ],
            [
             0.2222222222222222,
             "#7201a8"
            ],
            [
             0.3333333333333333,
             "#9c179e"
            ],
            [
             0.4444444444444444,
             "#bd3786"
            ],
            [
             0.5555555555555556,
             "#d8576b"
            ],
            [
             0.6666666666666666,
             "#ed7953"
            ],
            [
             0.7777777777777778,
             "#fb9f3a"
            ],
            [
             0.8888888888888888,
             "#fdca26"
            ],
            [
             1,
             "#f0f921"
            ]
           ],
           "sequentialminus": [
            [
             0,
             "#0d0887"
            ],
            [
             0.1111111111111111,
             "#46039f"
            ],
            [
             0.2222222222222222,
             "#7201a8"
            ],
            [
             0.3333333333333333,
             "#9c179e"
            ],
            [
             0.4444444444444444,
             "#bd3786"
            ],
            [
             0.5555555555555556,
             "#d8576b"
            ],
            [
             0.6666666666666666,
             "#ed7953"
            ],
            [
             0.7777777777777778,
             "#fb9f3a"
            ],
            [
             0.8888888888888888,
             "#fdca26"
            ],
            [
             1,
             "#f0f921"
            ]
           ]
          },
          "colorway": [
           "#636efa",
           "#EF553B",
           "#00cc96",
           "#ab63fa",
           "#FFA15A",
           "#19d3f3",
           "#FF6692",
           "#B6E880",
           "#FF97FF",
           "#FECB52"
          ],
          "font": {
           "color": "#2a3f5f"
          },
          "geo": {
           "bgcolor": "white",
           "lakecolor": "white",
           "landcolor": "#E5ECF6",
           "showlakes": true,
           "showland": true,
           "subunitcolor": "white"
          },
          "hoverlabel": {
           "align": "left"
          },
          "hovermode": "closest",
          "mapbox": {
           "style": "light"
          },
          "paper_bgcolor": "white",
          "plot_bgcolor": "#E5ECF6",
          "polar": {
           "angularaxis": {
            "gridcolor": "white",
            "linecolor": "white",
            "ticks": ""
           },
           "bgcolor": "#E5ECF6",
           "radialaxis": {
            "gridcolor": "white",
            "linecolor": "white",
            "ticks": ""
           }
          },
          "scene": {
           "xaxis": {
            "backgroundcolor": "#E5ECF6",
            "gridcolor": "white",
            "gridwidth": 2,
            "linecolor": "white",
            "showbackground": true,
            "ticks": "",
            "zerolinecolor": "white"
           },
           "yaxis": {
            "backgroundcolor": "#E5ECF6",
            "gridcolor": "white",
            "gridwidth": 2,
            "linecolor": "white",
            "showbackground": true,
            "ticks": "",
            "zerolinecolor": "white"
           },
           "zaxis": {
            "backgroundcolor": "#E5ECF6",
            "gridcolor": "white",
            "gridwidth": 2,
            "linecolor": "white",
            "showbackground": true,
            "ticks": "",
            "zerolinecolor": "white"
           }
          },
          "shapedefaults": {
           "line": {
            "color": "#2a3f5f"
           }
          },
          "ternary": {
           "aaxis": {
            "gridcolor": "white",
            "linecolor": "white",
            "ticks": ""
           },
           "baxis": {
            "gridcolor": "white",
            "linecolor": "white",
            "ticks": ""
           },
           "bgcolor": "#E5ECF6",
           "caxis": {
            "gridcolor": "white",
            "linecolor": "white",
            "ticks": ""
           }
          },
          "title": {
           "x": 0.05
          },
          "xaxis": {
           "automargin": true,
           "gridcolor": "white",
           "linecolor": "white",
           "ticks": "",
           "title": {
            "standoff": 15
           },
           "zerolinecolor": "white",
           "zerolinewidth": 2
          },
          "yaxis": {
           "automargin": true,
           "gridcolor": "white",
           "linecolor": "white",
           "ticks": "",
           "title": {
            "standoff": 15
           },
           "zerolinecolor": "white",
           "zerolinewidth": 2
          }
         }
        },
        "title": {
         "text": "Emotion Scores by Language for the prompt: What is the meaning of life?"
        },
        "xaxis": {
         "title": {
          "text": "Emotion"
         }
        },
        "yaxis": {
         "title": {
          "text": "Score"
         }
        }
       }
      }
     },
     "metadata": {},
     "output_type": "display_data"
    }
   ],
   "source": [
    "import pandas as pd\n",
    "\n",
    "df = pd.DataFrame()\n",
    "\n",
    "# Loop over every language in the dictionary\n",
    "for lang, content in output_dict.items():\n",
    "    # The emotions are a list of dictionaries. Convert this list to a dictionary of lists.\n",
    "    emotions_dict = {item['label']: item['score'] for item in content['emotion'][0]}\n",
    "    \n",
    "    # Add the readable text to the dictionary\n",
    "    lang_prompt = content['lang_prompt']\n",
    "    lang_prompt = \"<br>\".join([lang_prompt[i:i+100] for i in range(0, len(lang_prompt), 100)])\n",
    "    \n",
    "    eng_output = content[\"eng_output\"]\n",
    "    eng_output = \"<br>\".join([eng_output[i:i+100] for i in range(0, len(eng_output), 100)])\n",
    "    \n",
    "    readable_text = lang_prompt + \"<br><br>\" + eng_output\n",
    "    emotions_dict['readable_text'] = readable_text\n",
    "\n",
    "    # Convert this dictionary to a pandas DataFrame and transpose it to have emotions as columns\n",
    "    emotions_df = pd.DataFrame(emotions_dict, index=[lang]).T\n",
    "\n",
    "    # Append this DataFrame to the main one\n",
    "    df = pd.concat([df, emotions_df], axis=1)\n",
    "\n",
    "fig = go.Figure()\n",
    "\n",
    "for col in df.columns:\n",
    "    # separate emotions from readable_text\n",
    "    emotion_df = df[df.index != 'readable_text']\n",
    "    text_df = df[df.index == 'readable_text']\n",
    "    \n",
    "    fig.add_trace(\n",
    "        go.Bar(\n",
    "            x=emotion_df.index,\n",
    "            y=emotion_df[col],\n",
    "            name=flag_emojis[col],\n",
    "            hovertext=text_df[col].values[0],  # get the readable text\n",
    "        )\n",
    "    )\n",
    "\n",
    "# Set title and labels\n",
    "fig.update_layout(\n",
    "    title_text='Emotion Scores by Language for the prompt: ' + output_dict['eng']['prompt'],\n",
    "    xaxis_title='Emotion',\n",
    "    yaxis_title='Score',\n",
    "    barmode='group'  # bars are grouped together by emotion\n",
    ")\n",
    "\n",
    "# Show the plot\n",
    "fig.show()\n"
   ]
  },
  {
   "cell_type": "code",
   "execution_count": null,
   "metadata": {},
   "outputs": [],
   "source": [
    "  "
   ]
  }
 ],
 "metadata": {
  "kernelspec": {
   "display_name": "Python 3",
   "language": "python",
   "name": "python3"
  },
  "language_info": {
   "codemirror_mode": {
    "name": "ipython",
    "version": 3
   },
   "file_extension": ".py",
   "mimetype": "text/x-python",
   "name": "python",
   "nbconvert_exporter": "python",
   "pygments_lexer": "ipython3",
   "version": "3.10.8"
  },
  "orig_nbformat": 4
 },
 "nbformat": 4,
 "nbformat_minor": 2
}
